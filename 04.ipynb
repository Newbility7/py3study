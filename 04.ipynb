{
 "cells": [
  {
   "cell_type": "markdown",
   "metadata": {},
   "source": [
    "# 三大结构\n",
    "- 顺序\n",
    "- 分支\n",
    "- 循环"
   ]
  },
  {
   "cell_type": "markdown",
   "metadata": {},
   "source": [
    "# 分支\n",
    "\n",
    "- 分支的基本语法\n",
    "        if 条件表达式：\n",
    "            语句1\n",
    "            语句2\n",
    "            语句3\n",
    "            ......\n",
    "- 条件表达式就是计算结果必须为布尔值的表达式\n",
    "- 表达式后面的冒号不能少\n",
    "- 注意if后面的出现的语句，如果属于if语句块，则必须同一个缩进等级\n",
    "- 条件表达式结果为True，执行if后面的缩进语句块"
   ]
  },
  {
   "cell_type": "code",
   "execution_count": 5,
   "metadata": {},
   "outputs": [
    {
     "name": "stdout",
     "output_type": "stream",
     "text": [
      "马上上车了\n"
     ]
    }
   ],
   "source": [
    "# if语句练习\n",
    "# 如果age小于18岁，则打印信息“去叫家长”\n",
    "age = 19\n",
    "if age < 18:\n",
    "    print('去叫家长，孩子')\n",
    "    print('我们不带你玩')\n",
    "    print('滚')\n",
    "\n",
    "print('马上上车了')"
   ]
  },
  {
   "cell_type": "code",
   "execution_count": 6,
   "metadata": {},
   "outputs": [
    {
     "name": "stdout",
     "output_type": "stream",
     "text": [
      "今天学习for循环\n",
      "开始学习for循环\n"
     ]
    }
   ],
   "source": [
    "print('今天学习for循环')\n",
    "gender = '男'\n",
    "if gender == '女':\n",
    "    print('来，叔叔给你糖吃')\n",
    "print('开始学习for循环')"
   ]
  },
  {
   "cell_type": "markdown",
   "metadata": {},
   "source": [
    "### 双向分支\n",
    "- if...else...语句\n",
    "        if条件表达式：\n",
    "            语句1\n",
    "            语句2\n",
    "            ......\n",
    "        else：\n",
    "            语句1\n",
    "            语句2\n",
    "            ......\n",
    "- 双向分支有连个分支，当程序执行到if...else...语句时，一定会执行一个，也只能执行一个\n",
    "- 缩进问题： if和else一个层级，其余语句块一个层级"
   ]
  },
  {
   "cell_type": "code",
   "execution_count": 19,
   "metadata": {},
   "outputs": [
    {
     "name": "stdout",
     "output_type": "stream",
     "text": [
      "请输入性别：nv\n",
      "你输入的性别是:nv\n",
      "发糖喽\n",
      "开始上课了\n"
     ]
    }
   ],
   "source": [
    "#input的作用\n",
    "# 1. 在屏幕上输出括号内的字符串\n",
    "# 2. 接受用户输入的内容并返回到程序\n",
    "# 3. input返回的内容一定是字符串类型\n",
    "gender = input('请输入性别：')\n",
    "print('你输入的性别是:{0}'.format(gender))\n",
    "\n",
    "if gender == 'nan':\n",
    "    print('来，我们纪念一下今天吧')\n",
    "else:\n",
    "    print('发糖喽')\n",
    "print('开始上课了')"
   ]
  },
  {
   "cell_type": "code",
   "execution_count": 25,
   "metadata": {},
   "outputs": [
    {
     "name": "stdout",
     "output_type": "stream",
     "text": [
      "请输入学生成绩:85\n",
      "B\n"
     ]
    }
   ],
   "source": [
    "# 考试成绩判断\n",
    "# 90以上： 优秀\n",
    "# 80-90： 良\n",
    "# 70-80： 中\n",
    "# 60-70： 平\n",
    "# 60以下： 我没你这学生\n",
    "\n",
    "# score 存放学生成绩\n",
    "# 注意input的返回值类型\n",
    "\n",
    "score = input('请输入学生成绩:')\n",
    "\n",
    "# 需要把str转换成int\n",
    "score = int(score)\n",
    "\n",
    "if score >= 90:\n",
    "    print('A')\n",
    "if score >= 80 and score < 90:\n",
    "    print('B')\n",
    "if score >= 70 and score < 80:\n",
    "    print('C')\n",
    "if score >= 60 and score < 70:\n",
    "    print('D')\n",
    "if score < 60:\n",
    "    print('我没你这学生')"
   ]
  },
  {
   "cell_type": "markdown",
   "metadata": {},
   "source": [
    "## 多路分支\n",
    "- 很多分支的情况，简称多路分支\n",
    "\n",
    "    if 条件表达式：\n",
    "        语句1\n",
    "        ......\n",
    "    elif 条件表达式：\n",
    "        语句1\n",
    "        ......\n",
    "    elif 条件表达式：\n",
    "        语句1\n",
    "    ......\n",
    "    else:\n",
    "        语句1\n",
    "        ......\n",
    "- elif 可以很多个\n",
    "- else 可选\n",
    "- 多路分支只会选一个执行\n"
   ]
  },
  {
   "cell_type": "code",
   "execution_count": 27,
   "metadata": {},
   "outputs": [
    {
     "name": "stdout",
     "output_type": "stream",
     "text": [
      "请输入学生成绩:36\n",
      "我没你这学生\n"
     ]
    }
   ],
   "source": [
    "# score 存放学生成绩\n",
    "# 注意input的返回值类型\n",
    "\n",
    "score = input('请输入学生成绩:')\n",
    "\n",
    "# 需要把str转换成int\n",
    "score = int(score)\n",
    "\n",
    "if score >= 90:\n",
    "    print('A')\n",
    "elif score >= 80:\n",
    "    print('B')\n",
    "elif score >= 70:\n",
    "    print('C')\n",
    "elif score >= 60:\n",
    "    print('D')\n",
    "if score < 60:\n",
    "    print('我没你这学生')"
   ]
  },
  {
   "cell_type": "markdown",
   "metadata": {},
   "source": [
    "## if语句其他：\n",
    "- if语句可以嵌套使用，但不推荐\n",
    "- python里没有switch-case语句"
   ]
  },
  {
   "cell_type": "markdown",
   "metadata": {},
   "source": [
    "# 循环语句\n",
    "- 重复执行某些固定动作或者处理基本固定的事物\n",
    "- 分类\n",
    "    - for\n",
    "    - while\n",
    "    \n",
    "## for循环\n",
    "- for循环\n",
    "    \n",
    "    for 变量 in 序列：\n",
    "        语句1\n",
    "        语句2\n",
    "        ..."
   ]
  },
  {
   "cell_type": "code",
   "execution_count": 28,
   "metadata": {},
   "outputs": [
    {
     "name": "stdout",
     "output_type": "stream",
     "text": [
      "zhangsan\n",
      "lisi\n",
      "wangwu\n",
      "jingjing\n"
     ]
    }
   ],
   "source": [
    "# 列表就是一列数字或其他值，一般用中括号表示\n",
    "# 例如['zhangsan', 'lisi', 'wangwu', 'jingjing']\n",
    "\n",
    "# 打印学生列表姓名\n",
    "for name in ['zhangsan', 'lisi', 'wangwu', 'jingjing']:\n",
    "    print(name)"
   ]
  },
  {
   "cell_type": "code",
   "execution_count": 31,
   "metadata": {},
   "outputs": [
    {
     "name": "stdout",
     "output_type": "stream",
     "text": [
      "zhangsan\n",
      "同学我们不约，同学请自重\n",
      "lisi\n",
      "同学我们不约，同学请自重\n",
      "wangwu\n",
      "同学我们不约，同学请自重\n",
      "jingjing\n",
      "我的最爱jingjing出现了\n"
     ]
    }
   ],
   "source": [
    "# 打印学生列表姓名\n",
    "# 如果是jingjing，那肯定是我最爱\n",
    "# 如果是别的学生，那要冷酷的拒绝她\n",
    "\n",
    "for name in ['zhangsan', 'lisi', 'wangwu', 'jingjing']:\n",
    "    print(name)\n",
    "    if name == 'jingjing':\n",
    "        print('我的最爱{0}出现了'.format(name))\n",
    "    else:\n",
    "        print('同学我们不约，同学请自重')"
   ]
  },
  {
   "cell_type": "markdown",
   "metadata": {},
   "source": [
    "## range介绍\n",
    "- 生成一个数字序列\n",
    "- 具体范围可以设定"
   ]
  },
  {
   "cell_type": "code",
   "execution_count": 3,
   "metadata": {},
   "outputs": [
    {
     "name": "stdout",
     "output_type": "stream",
     "text": [
      "1\n",
      "2\n",
      "3\n",
      "4\n",
      "5\n",
      "6\n",
      "7\n",
      "8\n",
      "9\n",
      "10\n"
     ]
    }
   ],
   "source": [
    "# range练习\n",
    "# 打印从1-10的数字\n",
    "# 注意，一般在python中，如果由数字范围的两个数，一般是包含左边数字而不包含右边数字\n",
    "# randint是特例，它左右都包含\n",
    "# range函数在python2和python3中有很大区别\n",
    "\n",
    "for i in range(1,11):\n",
    "    print(i)"
   ]
  },
  {
   "cell_type": "markdown",
   "metadata": {},
   "source": [
    "## for-else语句\n",
    "- 当for循环结束的时候，会执行else语句\n",
    "- else是可选的"
   ]
  },
  {
   "cell_type": "code",
   "execution_count": 5,
   "metadata": {},
   "outputs": [
    {
     "name": "stdout",
     "output_type": "stream",
     "text": [
      "zhangsan\n",
      "同学我们不约，同学请自重\n",
      "lisi\n",
      "同学我们不约，同学请自重\n",
      "wangwu\n",
      "同学我们不约，同学请自重\n",
      "jingjing\n",
      "我的最爱jingjing出现了\n",
      "别的都不是我的学生，不会再爱了\n"
     ]
    }
   ],
   "source": [
    "# for-else语句\n",
    "# 打印列表中的同学\n",
    "# 如果没有在列表中，或者列表结束，我们需要打印提示语句，表示不再爱了\n",
    "\n",
    "for name in ['zhangsan', 'lisi', 'wangwu', 'jingjing']:\n",
    "    print(name)\n",
    "    if name == 'jingjing':\n",
    "        print('我的最爱{0}出现了'.format(name))\n",
    "    else:\n",
    "        print('同学我们不约，同学请自重')\n",
    "else:\n",
    "    print('别的都不是我的学生，不会再爱了')"
   ]
  },
  {
   "cell_type": "markdown",
   "metadata": {},
   "source": [
    "## for循环之break , continue,pass\n",
    "- break: 无条件结束整个循环，简称循环猝死\n",
    "- continue： 无条件结束本次循环，从新进入下一轮循环\n",
    "- pass： 表示路过"
   ]
  },
  {
   "cell_type": "code",
   "execution_count": 8,
   "metadata": {},
   "outputs": [
    {
     "name": "stdout",
     "output_type": "stream",
     "text": [
      "1\n",
      "2\n",
      "3\n",
      "4\n",
      "5\n",
      "6\n",
      "我找到7了\n"
     ]
    }
   ],
   "source": [
    "# 在数字1-10中，寻找数字7，一旦找到，打印出来，其余什么都不做\n",
    "# 在for循环中的变量表示，一般用i, k , m, n 或者 indx, idx, item\n",
    "# 在python中，如果循环变量的名称不重要，可以用下划线代替\n",
    "for i in range(1,11):\n",
    "    if i == 7:\n",
    "        print('我找到7了')\n",
    "        break\n",
    "    else:\n",
    "        print(i)"
   ]
  },
  {
   "cell_type": "code",
   "execution_count": 11,
   "metadata": {},
   "outputs": [
    {
     "name": "stdout",
     "output_type": "stream",
     "text": [
      "2是偶数\n",
      "4是偶数\n",
      "6是偶数\n",
      "8是偶数\n",
      "10是偶数\n"
     ]
    }
   ],
   "source": [
    "# continue 循环语句联系\n",
    "# 在数字1-10中，寻找偶数，然后把偶数打印出来\n",
    "# 本案例完整显示continue的作用和用法\n",
    "\n",
    "for i in range(1,11):\n",
    "    if i % 2 == 1:\n",
    "        continue\n",
    "        \n",
    "    print('{0}是偶数'.format(i))"
   ]
  },
  {
   "cell_type": "code",
   "execution_count": 14,
   "metadata": {},
   "outputs": [
    {
     "name": "stdout",
     "output_type": "stream",
     "text": [
      "我在这里\n",
      "我在这里\n",
      "我在这里\n",
      "我在这里\n",
      "我在这里\n",
      "我在这里\n",
      "我在这里\n",
      "我在这里\n",
      "我在这里\n",
      "我在这里\n"
     ]
    }
   ],
   "source": [
    "# pass例子，一般用于站位\n",
    "# pass没有跳过功能\n",
    "\n",
    "for i in range(1,11):\n",
    "    pass\n",
    "    print('我在这里')"
   ]
  }
 ],
 "metadata": {
  "kernelspec": {
   "display_name": "Python 3",
   "language": "python",
   "name": "python3"
  },
  "language_info": {
   "codemirror_mode": {
    "name": "ipython",
    "version": 3
   },
   "file_extension": ".py",
   "mimetype": "text/x-python",
   "name": "python",
   "nbconvert_exporter": "python",
   "pygments_lexer": "ipython3",
   "version": "3.6.5"
  }
 },
 "nbformat": 4,
 "nbformat_minor": 2
}
